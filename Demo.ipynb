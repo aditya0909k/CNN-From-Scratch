{
  "nbformat": 4,
  "nbformat_minor": 0,
  "metadata": {
    "colab": {
      "provenance": []
    },
    "kernelspec": {
      "name": "python3",
      "display_name": "Python 3"
    },
    "language_info": {
      "name": "python"
    }
  },
  "cells": [
    {
      "cell_type": "code",
      "execution_count": 6,
      "metadata": {
        "colab": {
          "base_uri": "https://localhost:8080/"
        },
        "id": "RwhDl9ZoBmJc",
        "outputId": "a78df6f0-0c5d-4ada-f1a7-25e55a628c62"
      },
      "outputs": [
        {
          "output_type": "stream",
          "name": "stdout",
          "text": [
            "Now training: Single Layer CNN\n",
            "\n",
            "Epoch 10/50 | Loss: 0.55 | Accuracy: 84.30%\n",
            "Epoch 20/50 | Loss: 0.55 | Accuracy: 84.20%\n",
            "Epoch 30/50 | Loss: 0.54 | Accuracy: 86.10%\n",
            "Epoch 40/50 | Loss: 0.55 | Accuracy: 85.60%\n",
            "Epoch 50/50 | Loss: 0.53 | Accuracy: 84.40%\n",
            "-------------------------------------------\n",
            "Now training: No Activiation Function CNN\n",
            "\n",
            "Epoch 10/50 | Loss: 0.51 | Accuracy: 87.10%\n",
            "Epoch 20/50 | Loss: 0.51 | Accuracy: 86.80%\n",
            "Epoch 30/50 | Loss: 0.51 | Accuracy: 86.50%\n",
            "Epoch 40/50 | Loss: 0.51 | Accuracy: 86.40%\n",
            "Epoch 50/50 | Loss: 0.51 | Accuracy: 85.40%\n",
            "-------------------------------------------\n",
            "Now training: Deep CNN\n",
            "\n",
            "Epoch 10/50 | Loss: 0.46 | Accuracy: 86.00%\n",
            "Epoch 20/50 | Loss: 0.25 | Accuracy: 92.50%\n",
            "Epoch 30/50 | Loss: 0.21 | Accuracy: 93.60%\n",
            "Epoch 40/50 | Loss: 0.19 | Accuracy: 94.10%\n",
            "Epoch 50/50 | Loss: 0.17 | Accuracy: 95.20%\n",
            "-------------------------------------------\n",
            "Single Layer CNN2 Test Accuracy: 80.80%\n",
            "No Activation CNN2 Test Accuracy: 78.00%\n",
            "Deep CNN3 Test Accuracy: 86.90%\n"
          ]
        },
        {
          "output_type": "execute_result",
          "data": {
            "text/plain": [
              "<__main__.Main at 0x7da79b396f50>"
            ]
          },
          "metadata": {},
          "execution_count": 6
        }
      ],
      "source": [
        "import numpy as np\n",
        "import tensorflow as tf\n",
        "from CNN import CNN\n",
        "from Convolution import Convolution\n",
        "from ReLU import ReLU\n",
        "from Pooling import Pooling\n",
        "from FullyConnected import FullyConnected\n",
        "from Softmax import Softmax\n",
        "\n",
        "class Main:\n",
        "    (X_train, y_train), (X_test, y_test) = tf.keras.datasets.mnist.load_data()\n",
        "    X_train, X_test = X_train / 255.0, X_test / 255.0 #normalize\n",
        "\n",
        "    X_train = np.expand_dims(X_train, axis=-1) #28x28 --> 28x28x1\n",
        "    X_test = np.expand_dims(X_test, axis=-1)\n",
        "\n",
        "    X_train, y_train = X_train[:1000], y_train[:1000]\n",
        "    X_test, y_test = X_test[:1000], y_test[:1000]\n",
        "\n",
        "\n",
        "    ''' Let's try 3 different CNN architectures '''\n",
        "\n",
        "    single_layer_CNN = CNN([Convolution(num_filters=3, filter_size=5, depth=1, reg=0.001), #24x24x3\n",
        "                            ReLU(),\n",
        "                            Pooling(2), #12x12x3\n",
        "                            FullyConnected(input_size=432, output_size=10, reg=0.0005), #432x10\n",
        "                            Softmax()], lr=0.005)\n",
        "\n",
        "    no_activation_CNN = CNN([Convolution(num_filters=3, filter_size=5, depth=1, reg=0.001), #24x24x3\n",
        "                            Pooling(2), #12x12x3\n",
        "                            FullyConnected(input_size=432, output_size=10, reg=0.0005), #432x10\n",
        "                            Softmax()], lr=0.005)\n",
        "\n",
        "    deep_CNN = CNN([Convolution(num_filters=10, filter_size=7, depth=1, reg=0.0001), #22x22x10\n",
        "                    ReLU(),\n",
        "                    Pooling(2), #11x11x10\n",
        "                    Convolution(num_filters=10, filter_size=5, depth=10, reg=0.0001), #7x7x10\n",
        "                    ReLU(),\n",
        "                    Convolution(num_filters=15, filter_size=3, depth=10, reg=0.0001), #5x5x15\n",
        "                    ReLU(),\n",
        "                    FullyConnected(input_size=375, output_size=10, reg=0.0001), #375x10\n",
        "                    Softmax()], lr=0.002)\n",
        "\n",
        "    ''' Train model'''\n",
        "\n",
        "    print(\"Now training: Single Layer CNN\\n\")\n",
        "    single_layer_CNN.train(X_train, y_train, epochs=50)\n",
        "    print(\"Now training: No Activiation Function CNN\\n\")\n",
        "    no_activation_CNN.train(X_train, y_train, epochs=50)\n",
        "    print(\"Now training: Deep CNN\\n\")\n",
        "    deep_CNN.train(X_train, y_train, epochs=50)\n",
        "\n",
        "    ''' Test model '''\n",
        "\n",
        "    single_acc = single_layer_CNN.test(X_test, y_test)\n",
        "    noa_acc = no_activation_CNN.test(X_test, y_test)\n",
        "    deep_acc = deep_CNN.test(X_test, y_test)\n",
        "\n",
        "    print(f\"Single Layer CNN2 Test Accuracy: {single_acc:.2f}%\")\n",
        "    print(f\"No Activation CNN2 Test Accuracy: {noa_acc:.2f}%\")\n",
        "    print(f\"Deep CNN3 Test Accuracy: {deep_acc:.2f}%\")\n",
        "\n",
        "Main()"
      ]
    }
  ]
}
